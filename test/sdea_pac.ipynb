{
 "cells": [
  {
   "cell_type": "code",
   "execution_count": 1,
   "metadata": {},
   "outputs": [],
   "source": [
    "%load_ext autoreload\n",
    "%autoreload 2\n",
    "\n",
    "import sys\n",
    "sys.path.append(\"..\")\n",
    "import torch\n",
    "import torch.utils.data\n",
    "# from torchvision import datasets, transforms\n",
    "import numpy as np\n",
    "import argparse\n",
    "from udlp.autoencoder.denoisingAutoencoder import DenoisingAutoencoder\n",
    "from pacdataset import PacDataset"
   ]
  },
  {
   "cell_type": "code",
   "execution_count": 2,
   "metadata": {},
   "outputs": [],
   "source": [
    "batch_size = 4\n",
    "lr = 0.001\n",
    "epochs = 2"
   ]
  },
  {
   "cell_type": "markdown",
   "metadata": {},
   "source": [
    "# DEA with PAC"
   ]
  },
  {
   "cell_type": "code",
   "execution_count": 3,
   "metadata": {},
   "outputs": [],
   "source": [
    "# \"/Users/josephmann/Documents/Gheiratmand/sMRI competition/PAC Data/pac2018/\"\n",
    "datasets = {x: PacDataset(train=(x=='train'), \n",
    "#                           root_dir = \"/home/paperspace/data/pac2018/\") \n",
    "                          root_dir = \"/Users/josephmann/Documents/Gheiratmand/sMRI competition/PAC Data/pac2018/\") \n",
    "            for x in ['val','train']}\n",
    "\n",
    "train_loader = torch.utils.data.DataLoader(\n",
    "    datasets['train'],\n",
    "    batch_size= batch_size, shuffle=True, num_workers=2)\n",
    "test_loader = torch.utils.data.DataLoader(\n",
    "    datasets['val'],\n",
    "    batch_size= batch_size, shuffle=False, num_workers=2)"
   ]
  },
  {
   "cell_type": "code",
   "execution_count": 4,
   "metadata": {},
   "outputs": [
    {
     "name": "stdout",
     "output_type": "stream",
     "text": [
      "=====Denoising Autoencoding layer=======\n",
      "####Epoch 0: Valid Reconstruct Loss: 12177.026\n",
      "#Epoch   1: Reconstruct Loss: 3514.417, Valid Reconstruct Loss: 3413.201\n",
      "#Epoch   2: Reconstruct Loss: 3343.163, Valid Reconstruct Loss: 3441.320\n"
     ]
    }
   ],
   "source": [
    "in_features = 17545\n",
    "out_features = 500\n",
    "dae = DenoisingAutoencoder(in_features, out_features)\n",
    "dae.fit(train_loader, test_loader, lr=lr, num_epochs=epochs, loss_type=\"cross-entropy\")"
   ]
  },
  {
   "cell_type": "markdown",
   "metadata": {},
   "source": [
    "# SDEA with PAC"
   ]
  },
  {
   "cell_type": "code",
   "execution_count": 14,
   "metadata": {},
   "outputs": [],
   "source": [
    "from udlp.autoencoder.stackedDAE import StackedDAE\n"
   ]
  },
  {
   "cell_type": "code",
   "execution_count": 19,
   "metadata": {},
   "outputs": [
    {
     "name": "stdout",
     "output_type": "stream",
     "text": [
      "l is  1\n",
      "=====Denoising Autoencoding layer=======\n",
      "####Epoch 0: Valid Reconstruct Loss: 12168.777\n",
      "#Epoch   1: Reconstruct Loss: 3445.067, Valid Reconstruct Loss: 3420.413\n",
      "#Epoch   2: Reconstruct Loss: 3294.748, Valid Reconstruct Loss: 3282.542\n",
      "type(data_x) <class 'torch.FloatTensor'>\n",
      "type(valid_x) <class 'torch.FloatTensor'>\n",
      "l is  2\n",
      "=====Denoising Autoencoding layer=======\n",
      "####Epoch 0: Valid Reconstruct Loss: 1321.345\n",
      "#Epoch   1: Reconstruct Loss: 116.790, Valid Reconstruct Loss: 227.774\n",
      "#Epoch   2: Reconstruct Loss: 62.136, Valid Reconstruct Loss: 192.821\n",
      "type(data_x) <class 'torch.FloatTensor'>\n",
      "type(valid_x) <class 'torch.FloatTensor'>\n",
      "l is  3\n",
      "=====Denoising Autoencoding layer=======\n",
      "####Epoch 0: Valid Reconstruct Loss: 822.929\n",
      "#Epoch   1: Reconstruct Loss: 50.307, Valid Reconstruct Loss: 152.432\n",
      "#Epoch   2: Reconstruct Loss: 26.695, Valid Reconstruct Loss: 50.826\n",
      "type(data_x) <class 'torch.FloatTensor'>\n",
      "type(valid_x) <class 'torch.FloatTensor'>\n",
      "l is  4\n",
      "=====Denoising Autoencoding layer=======\n",
      "####Epoch 0: Valid Reconstruct Loss: 623.119\n",
      "#Epoch   1: Reconstruct Loss: 386.347, Valid Reconstruct Loss: 232.258\n",
      "#Epoch   2: Reconstruct Loss: 148.209, Valid Reconstruct Loss: 199.858\n",
      "type(data_x) <class 'torch.FloatTensor'>\n",
      "type(valid_x) <class 'torch.FloatTensor'>\n",
      "=====Stacked Denoising Autoencoding layer=======\n",
      "#Epoch 0: Valid Reconstruct Loss: 6379.671\n",
      "#Epoch   1: Reconstruct Loss: 3296.538, Valid Reconstruct Loss: 3306.191\n",
      "#Epoch   2: Reconstruct Loss: 3266.863, Valid Reconstruct Loss: 3261.066\n"
     ]
    }
   ],
   "source": [
    "# in_features = 784\n",
    "in_features = 17545\n",
    "out_features = 500\n",
    "pretrainepochs = 2 \n",
    "\n",
    "sdae = StackedDAE(input_dim=in_features, z_dim=10, binary=True,\n",
    "    encodeLayer=[500,500,2000], decodeLayer=[2000,500,500], activation=\"relu\", \n",
    "    dropout=0)\n",
    "sdae.pretrain(train_loader, test_loader, lr=lr, batch_size= batch_size, \n",
    "    num_epochs=pretrainepochs, corrupt=0.3, loss_type=\"cross-entropy\")\n",
    "sdae.save_model(\"model/sdae.pt\")\n",
    "sdae.fit(train_loader, test_loader, lr= lr, num_epochs= epochs, corrupt=0.3, loss_type=\"cross-entropy\")\n"
   ]
  },
  {
   "cell_type": "code",
   "execution_count": null,
   "metadata": {},
   "outputs": [],
   "source": []
  },
  {
   "cell_type": "code",
   "execution_count": null,
   "metadata": {},
   "outputs": [],
   "source": []
  },
  {
   "cell_type": "code",
   "execution_count": null,
   "metadata": {},
   "outputs": [],
   "source": []
  }
 ],
 "metadata": {
  "kernelspec": {
   "display_name": "Python 3",
   "language": "python",
   "name": "python3"
  },
  "language_info": {
   "codemirror_mode": {
    "name": "ipython",
    "version": 3
   },
   "file_extension": ".py",
   "mimetype": "text/x-python",
   "name": "python",
   "nbconvert_exporter": "python",
   "pygments_lexer": "ipython3",
   "version": "3.6.1"
  }
 },
 "nbformat": 4,
 "nbformat_minor": 2
}
