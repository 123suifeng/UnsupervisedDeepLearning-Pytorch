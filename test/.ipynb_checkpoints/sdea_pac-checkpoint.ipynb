{
 "cells": [
  {
   "cell_type": "code",
   "execution_count": 22,
   "metadata": {},
   "outputs": [],
   "source": [
    "%load_ext autoreload\n",
    "%autoreload 2\n",
    "\n",
    "import sys\n",
    "sys.path.append(\"..\")\n",
    "import torch\n",
    "import torch.utils.data\n",
    "# from torchvision import datasets, transforms\n",
    "import numpy as np\n",
    "import argparse\n",
    "from udlp.autoencoder.denoisingAutoencoder import DenoisingAutoencoder\n",
    "from pacdataset import PacDataset"
   ]
  },
  {
   "cell_type": "code",
   "execution_count": 23,
   "metadata": {},
   "outputs": [],
   "source": [
    "batch_size = 4\n",
    "lr = 0.001\n",
    "epochs = 2"
   ]
  },
  {
   "cell_type": "code",
   "execution_count": 24,
   "metadata": {},
   "outputs": [],
   "source": [
    "datasets = {x: PacDataset(train=(x=='train'), \n",
    "                          root_dir = \"/home/paperspace/data/pac2018/\") \n",
    "            for x in ['val','train']}\n",
    "\n",
    "train_loader = torch.utils.data.DataLoader(\n",
    "    datasets['train'],\n",
    "    batch_size= batch_size, shuffle=True, num_workers=2)\n",
    "test_loader = torch.utils.data.DataLoader(\n",
    "    datasets['val'],\n",
    "    batch_size= batch_size, shuffle=False, num_workers=2)"
   ]
  },
  {
   "cell_type": "code",
   "execution_count": 30,
   "metadata": {},
   "outputs": [
    {
     "name": "stdout",
     "output_type": "stream",
     "text": [
      "=====Denoising Autoencoding layer=======\n",
      "#Epoch 0: Valid Reconstruct Loss: 12171.869\n",
      "#Epoch   1: Reconstruct Loss: 3515.545, Valid Reconstruct Loss: 3414.069\n",
      "#Epoch   2: Reconstruct Loss: 3339.725, Valid Reconstruct Loss: 3278.801\n"
     ]
    }
   ],
   "source": [
    "in_features = 17545\n",
    "out_features = 500\n",
    "dae = DenoisingAutoencoder(in_features, out_features)\n",
    "dae.fit(train_loader, test_loader, lr=lr, num_epochs=epochs, loss_type=\"cross-entropy\")"
   ]
  },
  {
   "cell_type": "code",
   "execution_count": null,
   "metadata": {},
   "outputs": [],
   "source": []
  }
 ],
 "metadata": {
  "kernelspec": {
   "display_name": "Python 3",
   "language": "python",
   "name": "python3"
  },
  "language_info": {
   "codemirror_mode": {
    "name": "ipython",
    "version": 3
   },
   "file_extension": ".py",
   "mimetype": "text/x-python",
   "name": "python",
   "nbconvert_exporter": "python",
   "pygments_lexer": "ipython3",
   "version": "3.6.4"
  }
 },
 "nbformat": 4,
 "nbformat_minor": 2
}
