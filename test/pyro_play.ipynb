{
 "cells": [
  {
   "cell_type": "code",
   "execution_count": 1,
   "metadata": {},
   "outputs": [
    {
     "data": {
      "text/plain": [
       "<torch._C.Generator at 0x1149f4dd0>"
      ]
     },
     "execution_count": 1,
     "metadata": {},
     "output_type": "execute_result"
    }
   ],
   "source": [
    "%matplotlib inline\n",
    "# import some dependencies\n",
    "import numpy as np\n",
    "import matplotlib.pyplot as plt\n",
    "try:\n",
    "    import seaborn as sns\n",
    "    sns.set()\n",
    "except ImportError:\n",
    "    pass\n",
    "\n",
    "import torch\n",
    "from torch.autograd import Variable\n",
    "\n",
    "import pyro\n",
    "import pyro.infer\n",
    "import pyro.optim\n",
    "import pyro.distributions as dist\n",
    "\n",
    "torch.manual_seed(101)"
   ]
  },
  {
   "cell_type": "code",
   "execution_count": 2,
   "metadata": {},
   "outputs": [],
   "source": [
    "# scale induces a  P(weight,measurement, guess) \n",
    "# to get P(weight) we marginilize \\sum_{measurement, guess} P(...)\n",
    "# or maybe P(weight) = \\sum_{measurment} P(weight,measurement| guess)\n",
    "\n",
    "def scale(guess):\n",
    "    # The prior over weight encodes our uncertainty about our guess\n",
    "    weight = pyro.sample(\"weight\", dist.normal, guess, Variable(torch.ones(1)))\n",
    "    # This encodes our belief about the noisiness of the scale:\n",
    "    # the measurement fluctuates around the true weight\n",
    "    return pyro.sample(\"measurement\", dist.normal, weight, Variable(torch.Tensor([0.75])))\n"
   ]
  },
  {
   "cell_type": "code",
   "execution_count": 21,
   "metadata": {},
   "outputs": [
    {
     "name": "stdout",
     "output_type": "stream",
     "text": [
      "1 loop, best of 3: 202 ms per loop\n"
     ]
    }
   ],
   "source": [
    "%%timeit\n",
    "for _ in range(5000):\n",
    "    (scale(Variable(torch.Tensor([8.5]))).data[0])"
   ]
  },
  {
   "cell_type": "code",
   "execution_count": 11,
   "metadata": {},
   "outputs": [],
   "source": [
    "posterior = pyro.infer.Importance(scale, num_samples=100)"
   ]
  },
  {
   "cell_type": "code",
   "execution_count": 16,
   "metadata": {},
   "outputs": [],
   "source": [
    "guess = Variable(torch.Tensor([8.5]))\n",
    "\n",
    "marginal = pyro.infer.Marginal(posterior)"
   ]
  },
  {
   "cell_type": "code",
   "execution_count": 20,
   "metadata": {},
   "outputs": [
    {
     "name": "stdout",
     "output_type": "stream",
     "text": [
      "10 loops, best of 3: 75.1 ms per loop\n"
     ]
    }
   ],
   "source": [
    "%%timeit\n",
    "\n",
    "for _ in range(5000):\n",
    "    (marginal(guess).data[0])"
   ]
  },
  {
   "cell_type": "code",
   "execution_count": null,
   "metadata": {},
   "outputs": [],
   "source": []
  },
  {
   "cell_type": "markdown",
   "metadata": {},
   "source": [
    "# Difference between a marginal distribution and simply sampling a the original distribution with fixed parameters... \n",
    "\n",
    "there appear to be larger tails on the simple sampling.."
   ]
  },
  {
   "cell_type": "code",
   "execution_count": 58,
   "metadata": {},
   "outputs": [
    {
     "data": {
      "text/plain": [
       "Text(0,0.5,'#')"
      ]
     },
     "execution_count": 58,
     "metadata": {},
     "output_type": "execute_result"
    },
    {
     "data": {
      "image/png": "[encoded data removed]",
      "text/plain": [
       "<matplotlib.figure.Figure at 0x1216815f8>"
      ]
     },
     "metadata": {},
     "output_type": "display_data"
    }
   ],
   "source": [
    "\n",
    "\n",
    "plt.hist([scale(Variable(torch.Tensor([8.5]))).data[0] for _ in range(2000)], range=(5.0, 12.0))\n",
    "plt.title(\"P(measurement | guess)\")\n",
    "plt.xlabel(\"weight\")\n",
    "plt.ylabel(\"#\")"
   ]
  },
  {
   "cell_type": "markdown",
   "metadata": {},
   "source": [
    "So this what I think is happening. `posterior` is sampling to get an an approximate distribution of `weight`. The `marginal` uses that approximation to generate a conditional distribution. \n",
    "\n",
    "If I recall correctly, _importance sampling_ use one distribution that's easy to sample to explore a different distribution that's not, at least not where we're looking. Eg. looking for coins under a light post at night is our original distribution. P(spot) = chance of finding coin. our helper distribution is location of coins in the day. \n",
    "\n",
    "So how do we use daylight, not to change our night time distribution, but to better define it. Eg. "
   ]
  },
  {
   "cell_type": "code",
   "execution_count": 82,
   "metadata": {},
   "outputs": [
    {
     "data": {
      "text/plain": [
       "Text(0,0.5,'#')"
      ]
     },
     "execution_count": 82,
     "metadata": {},
     "output_type": "execute_result"
    },
    {
     "data": {
      "image/png": "[encoded data removed]",
      "text/plain": [
       "<matplotlib.figure.Figure at 0x1282b2f28>"
      ]
     },
     "metadata": {},
     "output_type": "display_data"
    }
   ],
   "source": [
    "# we need to make a fresh marginal each time, other wise it just \n",
    "# keeps using the inferred distribution from the first sample\n",
    "posterior = pyro.infer.Importance(scale, num_samples=1000)\n",
    "marginal = pyro.infer.Marginal(posterior)\n",
    "plt.hist([marginal(guess).data[0] for _ in range(2000)], range=(5.0, 12.0))\n",
    "plt.title(\"P(measurement | guess)\")\n",
    "plt.xlabel(\"weight\")\n",
    "plt.ylabel(\"#\")"
   ]
  },
  {
   "cell_type": "code",
   "execution_count": 83,
   "metadata": {},
   "outputs": [
    {
     "data": {
      "text/plain": [
       "<pyro.poutine.block_poutine.BlockPoutine at 0x127d438d0>"
      ]
     },
     "execution_count": 83,
     "metadata": {},
     "output_type": "execute_result"
    }
   ],
   "source": [
    "posterior.guide"
   ]
  },
  {
   "cell_type": "code",
   "execution_count": 61,
   "metadata": {},
   "outputs": [
    {
     "data": {
      "text/plain": [
       "Text(0,0.5,'#')"
      ]
     },
     "execution_count": 61,
     "metadata": {},
     "output_type": "execute_result"
    },
    {
     "data": {
      "image/png": "[encoded data removed]",
      "text/plain": [
       "<matplotlib.figure.Figure at 0x121b1a6a0>"
      ]
     },
     "metadata": {},
     "output_type": "display_data"
    }
   ],
   "source": [
    "## Very slow ... (as expected, but more so - which makes sense -in our case the posterior is\n",
    "## is sampled 100 times )\n",
    "\n",
    "# we need to make a fresh marginal each time, other wise it just \n",
    "# keeps using the inferred distribution from the first sample\n",
    "# marginal = pyro.infer.Marginal(posterior)\n",
    "plt.hist([pyro.infer.Marginal(posterior)(guess).data[0] for _ in range(2000)], range=(5.0, 12.0))\n",
    "plt.title(\"P(measurement | guess)\")\n",
    "plt.xlabel(\"weight\")\n",
    "plt.ylabel(\"#\")"
   ]
  },
  {
   "cell_type": "code",
   "execution_count": 78,
   "metadata": {},
   "outputs": [],
   "source": [
    "# equivalent to pyro.condition(scale, data={\"measurement\": Variable(torch.ones(1))})\n",
    "\n",
    "def scale_obs1(guess):\n",
    "    z = pyro.sample(\"weight\", dist.normal, guess, Variable(torch.ones(1)))\n",
    "     # here we attach an observation measurement == 1\n",
    "    return pyro.sample(\"measurement\", dist.normal, z, Variable(torch.ones(1)),\n",
    "                       obs=Variable(torch.Tensor([0.1])))\n",
    "\n",
    "# equivalent to scale_obs:\n",
    "def scale_obs2(guess):\n",
    "    z = pyro.sample(\"weight\", dist.normal, guess, Variable(torch.ones(1)))\n",
    "    # here we attach an observation measurement == 1\n",
    "    return pyro.observe(\"measurement\", dist.normal,\n",
    "                        Variable(torch.Tensor([0.1])),\n",
    "                        z, Variable(torch.ones(1)))"
   ]
  },
  {
   "cell_type": "code",
   "execution_count": 79,
   "metadata": {},
   "outputs": [
    {
     "name": "stdout",
     "output_type": "stream",
     "text": [
      "0.10000000149011612\n",
      "0.10000000149011612\n",
      "0.10000000149011612\n",
      "0.10000000149011612\n",
      "0.10000000149011612\n",
      "0.10000000149011612\n",
      "0.10000000149011612\n",
      "0.10000000149011612\n",
      "0.10000000149011612\n",
      "0.10000000149011612\n"
     ]
    },
    {
     "name": "stderr",
     "output_type": "stream",
     "text": [
      "/Users/josephmann/anaconda3/envs/fst/lib/python3.6/site-packages/pyro/__init__.py:57: RuntimeWarning: trying to observe a value outside of inference at measurement\n",
      "  RuntimeWarning)\n"
     ]
    }
   ],
   "source": [
    "torch.manual_seed(101)\n",
    "for _ in range(10):\n",
    "    print(scale_obs1(Variable(torch.Tensor([8.5]))).data[0])"
   ]
  },
  {
   "cell_type": "code",
   "execution_count": 80,
   "metadata": {},
   "outputs": [
    {
     "name": "stdout",
     "output_type": "stream",
     "text": [
      "0.10000000149011612\n",
      "0.10000000149011612\n",
      "0.10000000149011612\n",
      "0.10000000149011612\n",
      "0.10000000149011612\n",
      "0.10000000149011612\n",
      "0.10000000149011612\n",
      "0.10000000149011612\n",
      "0.10000000149011612\n",
      "0.10000000149011612\n"
     ]
    },
    {
     "name": "stderr",
     "output_type": "stream",
     "text": [
      "/Users/josephmann/anaconda3/envs/fst/lib/python3.6/site-packages/pyro/__init__.py:57: RuntimeWarning: trying to observe a value outside of inference at measurement\n",
      "  RuntimeWarning)\n"
     ]
    }
   ],
   "source": [
    "torch.manual_seed(101)\n",
    "for _ in range(10):\n",
    "    print(scale_obs2(Variable(torch.Tensor([8.5]))).data[0])"
   ]
  },
  {
   "cell_type": "code",
   "execution_count": 71,
   "metadata": {},
   "outputs": [
    {
     "name": "stderr",
     "output_type": "stream",
     "text": [
      "/Users/josephmann/anaconda3/envs/fst/lib/python3.6/site-packages/pyro/__init__.py:57: RuntimeWarning: trying to observe a value outside of inference at measurement\n",
      "  RuntimeWarning)\n"
     ]
    },
    {
     "data": {
      "text/plain": [
       "0.10000000149011612"
      ]
     },
     "execution_count": 71,
     "metadata": {},
     "output_type": "execute_result"
    }
   ],
   "source": [
    "torch.manual_seed(101)\n",
    "scale_obs1(Variable(torch.Tensor([8.5]))).data[0]"
   ]
  },
  {
   "cell_type": "code",
   "execution_count": 70,
   "metadata": {},
   "outputs": [
    {
     "name": "stderr",
     "output_type": "stream",
     "text": [
      "/Users/josephmann/anaconda3/envs/fst/lib/python3.6/site-packages/pyro/__init__.py:57: RuntimeWarning: trying to observe a value outside of inference at measurement\n",
      "  RuntimeWarning)\n"
     ]
    },
    {
     "data": {
      "text/plain": [
       "1.0"
      ]
     },
     "execution_count": 70,
     "metadata": {},
     "output_type": "execute_result"
    }
   ],
   "source": [
    "torch.manual_seed(101)\n",
    "scale_obs2(Variable(torch.Tensor([8.5]))).data[0]"
   ]
  },
  {
   "cell_type": "code",
   "execution_count": 72,
   "metadata": {},
   "outputs": [
    {
     "name": "stderr",
     "output_type": "stream",
     "text": [
      "/Users/josephmann/anaconda3/envs/fst/lib/python3.6/site-packages/pyro/__init__.py:57: RuntimeWarning: trying to observe a value outside of inference at measurement\n",
      "  RuntimeWarning)\n"
     ]
    },
    {
     "data": {
      "text/plain": [
       "1.0"
      ]
     },
     "execution_count": 72,
     "metadata": {},
     "output_type": "execute_result"
    }
   ],
   "source": [
    "torch.manual_seed(101)\n",
    "scale_obs2(Variable(torch.Tensor([8.5]))).data[0]"
   ]
  },
  {
   "cell_type": "markdown",
   "metadata": {},
   "source": [
    "## this is very cool\n",
    "\n",
    "we are inferring the actual weight (a latent variable) given the guess and the measurement!!"
   ]
  },
  {
   "cell_type": "code",
   "execution_count": null,
   "metadata": {},
   "outputs": [],
   "source": [
    "\n",
    "\n",
    "guess = Variable(torch.Tensor([8.5]))\n",
    "measurement = Variable(torch.Tensor([9.5]))\n",
    "\n",
    "conditioned_scale = pyro.condition(scale, data={\"measurement\": measurement})\n",
    "\n",
    "marginal = pyro.infer.Marginal(\n",
    "    pyro.infer.Importance(conditioned_scale, num_samples=100), sites=[\"weight\"])\n",
    "\n",
    "# The marginal distribution concentrates around the data\n",
    "print(marginal(guess))\n",
    "plt.hist([marginal(guess)[\"weight\"].data[0] for _ in range(100)], range=(5.0, 12.0))\n",
    "plt.title(\"P(weight | measurement, guess)\")\n",
    "plt.xlabel(\"weight\")\n",
    "plt.ylabel(\"#\")"
   ]
  },
  {
   "cell_type": "markdown",
   "metadata": {},
   "source": [
    "# Play"
   ]
  },
  {
   "cell_type": "code",
   "execution_count": 2,
   "metadata": {},
   "outputs": [],
   "source": [
    "t = torch.Tensor([[1,2,3],[3,44,55]])"
   ]
  },
  {
   "cell_type": "code",
   "execution_count": 7,
   "metadata": {},
   "outputs": [
    {
     "data": {
      "text/plain": [
       "2"
      ]
     },
     "execution_count": 7,
     "metadata": {},
     "output_type": "execute_result"
    }
   ],
   "source": [
    "t.size()[0]"
   ]
  },
  {
   "cell_type": "code",
   "execution_count": 8,
   "metadata": {},
   "outputs": [
    {
     "data": {
      "text/plain": [
       "torch.Size([2, 3])"
      ]
     },
     "execution_count": 8,
     "metadata": {},
     "output_type": "execute_result"
    }
   ],
   "source": [
    "t.size()"
   ]
  },
  {
   "cell_type": "code",
   "execution_count": 11,
   "metadata": {},
   "outputs": [
    {
     "data": {
      "text/plain": [
       "torch.Size([1, 1, 2, 3])"
      ]
     },
     "execution_count": 11,
     "metadata": {},
     "output_type": "execute_result"
    }
   ],
   "source": [
    "t.unsqueeze(0).unsqueeze(0).size()"
   ]
  },
  {
   "cell_type": "code",
   "execution_count": 13,
   "metadata": {},
   "outputs": [
    {
     "data": {
      "text/plain": [
       "torch.Size([2, 1, 3])"
      ]
     },
     "execution_count": 13,
     "metadata": {},
     "output_type": "execute_result"
    }
   ],
   "source": [
    "t.unsqueeze(1).size()"
   ]
  },
  {
   "cell_type": "code",
   "execution_count": 15,
   "metadata": {},
   "outputs": [
    {
     "data": {
      "text/plain": [
       "torch.Size([3])"
      ]
     },
     "execution_count": 15,
     "metadata": {},
     "output_type": "execute_result"
    }
   ],
   "source": [
    "t[0].size()"
   ]
  },
  {
   "cell_type": "code",
   "execution_count": 22,
   "metadata": {},
   "outputs": [
    {
     "data": {
      "text/plain": [
       "\n",
       "(0 ,.,.) = \n",
       "  1\n",
       "  2\n",
       "  3\n",
       "[torch.FloatTensor of size 1x3x1]"
      ]
     },
     "execution_count": 22,
     "metadata": {},
     "output_type": "execute_result"
    }
   ],
   "source": [
    "t[0].unsqueeze(1).unsqueeze(0)"
   ]
  },
  {
   "cell_type": "code",
   "execution_count": 21,
   "metadata": {},
   "outputs": [
    {
     "data": {
      "text/plain": [
       "\n",
       " 1\n",
       " 2\n",
       " 3\n",
       "[torch.FloatTensor of size 3]"
      ]
     },
     "execution_count": 21,
     "metadata": {},
     "output_type": "execute_result"
    }
   ],
   "source": [
    "t[0]"
   ]
  },
  {
   "cell_type": "code",
   "execution_count": 23,
   "metadata": {},
   "outputs": [
    {
     "data": {
      "text/plain": [
       "\n",
       "  1   2   3\n",
       "  3  44  55\n",
       "[torch.FloatTensor of size 2x3]"
      ]
     },
     "execution_count": 23,
     "metadata": {},
     "output_type": "execute_result"
    }
   ],
   "source": [
    "t"
   ]
  },
  {
   "cell_type": "code",
   "execution_count": 25,
   "metadata": {},
   "outputs": [
    {
     "data": {
      "text/plain": [
       "\n",
       "(0 ,.,.) = \n",
       "   1   1   1\n",
       "   2   2   2\n",
       "   3   3   3\n",
       "\n",
       "(1 ,.,.) = \n",
       "   3   3   3\n",
       "  44  44  44\n",
       "  55  55  55\n",
       "[torch.FloatTensor of size 2x3x3]"
      ]
     },
     "execution_count": 25,
     "metadata": {},
     "output_type": "execute_result"
    }
   ],
   "source": [
    "t.unsqueeze(2).expand(-1,-1,3)"
   ]
  },
  {
   "cell_type": "code",
   "execution_count": null,
   "metadata": {},
   "outputs": [],
   "source": []
  }
 ],
 "metadata": {
  "kernelspec": {
   "display_name": "Python 3",
   "language": "python",
   "name": "python3"
  },
  "language_info": {
   "codemirror_mode": {
    "name": "ipython",
    "version": 3
   },
   "file_extension": ".py",
   "mimetype": "text/x-python",
   "name": "python",
   "nbconvert_exporter": "python",
   "pygments_lexer": "ipython3",
   "version": "3.6.1"
  }
 },
 "nbformat": 4,
 "nbformat_minor": 2
}
