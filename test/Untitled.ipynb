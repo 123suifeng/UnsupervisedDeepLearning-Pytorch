{
 "cells": [
  {
   "cell_type": "code",
   "execution_count": 4,
   "metadata": {},
   "outputs": [
    {
     "name": "stderr",
     "output_type": "stream",
     "text": [
      "/home/paperspace/anaconda3/envs/fastai/lib/python3.6/site-packages/h5py/__init__.py:36: FutureWarning: Conversion of the second argument of issubdtype from `float` to `np.floating` is deprecated. In future, it will be treated as `np.float64 == np.dtype(float).type`.\n",
      "  from ._conv import register_converters as _register_converters\n"
     ]
    }
   ],
   "source": [
    "%load_ext autoreload\n",
    "%autoreload 2\n",
    "\n",
    "import sys\n",
    "sys.path.append(\"..\")\n",
    "import torch\n",
    "import torch.utils.data\n",
    "# from torchvision import datasets, transforms\n",
    "import numpy as np\n",
    "import argparse\n",
    "from udlp.autoencoder.denoisingAutoencoder import DenoisingAutoencoder\n",
    "from pacdataset import PacDataset"
   ]
  },
  {
   "cell_type": "code",
   "execution_count": 5,
   "metadata": {},
   "outputs": [],
   "source": [
    "batch_size = 4\n",
    "lr = 0.001\n",
    "epochs = 2"
   ]
  },
  {
   "cell_type": "markdown",
   "metadata": {},
   "source": [
    "# DEA with PAC"
   ]
  },
  {
   "cell_type": "code",
   "execution_count": 6,
   "metadata": {},
   "outputs": [],
   "source": [
    "datasets = {x: PacDataset(train=(x=='train'), \n",
    "                          root_dir = \"/home/paperspace/data/pac2018/\") \n",
    "            for x in ['val','train']}\n",
    "\n",
    "train_loader = torch.utils.data.DataLoader(\n",
    "    datasets['train'],\n",
    "    batch_size= batch_size, shuffle=True, num_workers=2)\n",
    "test_loader = torch.utils.data.DataLoader(\n",
    "    datasets['val'],\n",
    "    batch_size= batch_size, shuffle=False, num_workers=2)"
   ]
  },
  {
   "cell_type": "code",
   "execution_count": 30,
   "metadata": {},
   "outputs": [
    {
     "name": "stdout",
     "output_type": "stream",
     "text": [
      "=====Denoising Autoencoding layer=======\n",
      "#Epoch 0: Valid Reconstruct Loss: 12171.869\n",
      "#Epoch   1: Reconstruct Loss: 3515.545, Valid Reconstruct Loss: 3414.069\n",
      "#Epoch   2: Reconstruct Loss: 3339.725, Valid Reconstruct Loss: 3278.801\n"
     ]
    }
   ],
   "source": [
    "in_features = 17545\n",
    "out_features = 500\n",
    "dae = DenoisingAutoencoder(in_features, out_features)\n",
    "dae.fit(train_loader, test_loader, lr=lr, num_epochs=epochs, loss_type=\"cross-entropy\")"
   ]
  },
  {
   "cell_type": "markdown",
   "metadata": {},
   "source": [
    "# SDEA with PAC"
   ]
  },
  {
   "cell_type": "code",
   "execution_count": 7,
   "metadata": {},
   "outputs": [],
   "source": [
    "from udlp.autoencoder.stackedDAE import StackedDAE\n"
   ]
  },
  {
   "cell_type": "code",
   "execution_count": null,
   "metadata": {},
   "outputs": [
    {
     "name": "stdout",
     "output_type": "stream",
     "text": [
      "l is  1\n",
      "=====Denoising Autoencoding layer=======\n",
      "#Epoch 0: Valid Reconstruct Loss: 12173.703\n",
      "#Epoch   1: Reconstruct Loss: 3448.276, Valid Reconstruct Loss: 3403.032\n",
      "#Epoch   2: Reconstruct Loss: 3294.175, Valid Reconstruct Loss: 3389.241\n",
      "#Epoch   3: Reconstruct Loss: 3252.883, Valid Reconstruct Loss: 3308.697\n",
      "#Epoch   4: Reconstruct Loss: 3209.897, Valid Reconstruct Loss: 3323.170\n",
      "#Epoch   5: Reconstruct Loss: 3178.561, Valid Reconstruct Loss: 3306.884\n",
      "#Epoch   6: Reconstruct Loss: 3158.802, Valid Reconstruct Loss: 3252.964\n",
      "#Epoch   7: Reconstruct Loss: 3143.454, Valid Reconstruct Loss: 3263.911\n",
      "#Epoch   8: Reconstruct Loss: 3128.448, Valid Reconstruct Loss: 3233.133\n",
      "#Epoch   9: Reconstruct Loss: 3116.606, Valid Reconstruct Loss: 3284.641\n"
     ]
    }
   ],
   "source": [
    "# in_features = 784\n",
    "in_features = 17545\n",
    "out_features = 500\n",
    "pretrainepochs = 10 \n",
    "\n",
    "sdae = StackedDAE(input_dim=in_features, z_dim=10, binary=True,\n",
    "    encodeLayer=[500,500,2000], decodeLayer=[2000,500,500], activation=\"relu\", \n",
    "    dropout=0)\n",
    "sdae.pretrain(train_loader, test_loader, lr=lr, batch_size= batch_size, \n",
    "    num_epochs=pretrainepochs, corrupt=0.3, loss_type=\"cross-entropy\")\n",
    "sdae.save_model(\"model/sdae.pt\")\n",
    "sdae.fit(train_loader, test_loader, lr= lr, num_epochs= epochs, corrupt=0.3, loss_type=\"cross-entropy\")\n"
   ]
  },
  {
   "cell_type": "code",
   "execution_count": null,
   "metadata": {},
   "outputs": [],
   "source": []
  }
 ],
 "metadata": {
  "kernelspec": {
   "display_name": "Python 3",
   "language": "python",
   "name": "python3"
  },
  "language_info": {
   "codemirror_mode": {
    "name": "ipython",
    "version": 3
   },
   "file_extension": ".py",
   "mimetype": "text/x-python",
   "name": "python",
   "nbconvert_exporter": "python",
   "pygments_lexer": "ipython3",
   "version": "3.6.4"
  }
 },
 "nbformat": 4,
 "nbformat_minor": 2
}
