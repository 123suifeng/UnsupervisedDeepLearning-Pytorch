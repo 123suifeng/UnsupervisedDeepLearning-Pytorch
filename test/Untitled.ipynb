{
 "cells": [
  {
   "cell_type": "markdown",
   "metadata": {},
   "source": [
    "# Rethinking CNNs?\n",
    "\n",
    "C.-C Jay Kuo\n",
    "\n",
    "find some mathematical technique to understand CNNs\n",
    "problem: we use 80% for learning, 20% validation\n",
    "\n"
   ]
  },
  {
   "cell_type": "code",
   "execution_count": null,
   "metadata": {},
   "outputs": [],
   "source": []
  },
  {
   "cell_type": "markdown",
   "metadata": {},
   "source": [
    "## Part 1 why cnn\n",
    "\n",
    "local min all the same - but that's all we've got\n",
    "\n",
    "2nd viewpoint \n",
    "    - matched filter\n",
    "    - k-means clustering\n",
    "\n",
    "3rd viewpoitn\n",
    "    - bases (or kernels) for a linear space\n",
    "    - subspace approx..\n",
    "\n",
    "96% acc no back-prop...??!\n",
    "\n",
    "ReLU nice to analyse\n",
    "\n",
    "young people hard to do different things\n",
    "\n",
    "\n",
    "Single Layer Signal Analysis\n",
    "\n",
    "Sparse Coding (M>N)\n",
    "$x = Ac$\n",
    "learn a dictionary\n",
    "\n",
    "\n",
    "## new directions\n",
    "\n",
    "reason 1: Robustness\n",
    "\n",
    "easily fooled by adversial perturbation\n",
    "\n",
    "reason 2 : Scalability\n",
    "\n",
    "3: Portability\n",
    "\n",
    "love is blind\n",
    "\n",
    "## What goes wrong\n",
    "\n",
    "- feature extraction is not invertible\n",
    "\n",
    "Inverse RECOS Transform\n",
    "\n",
    "Rectified Reconstruction\n",
    "\n"
   ]
  }
 ],
 "metadata": {
  "kernelspec": {
   "display_name": "Python 3",
   "language": "python",
   "name": "python3"
  },
  "language_info": {
   "codemirror_mode": {
    "name": "ipython",
    "version": 3
   },
   "file_extension": ".py",
   "mimetype": "text/x-python",
   "name": "python",
   "nbconvert_exporter": "python",
   "pygments_lexer": "ipython3",
   "version": "3.6.1"
  }
 },
 "nbformat": 4,
 "nbformat_minor": 2
}
